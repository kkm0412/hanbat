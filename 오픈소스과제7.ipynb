{
  "nbformat": 4,
  "nbformat_minor": 0,
  "metadata": {
    "colab": {
      "provenance": []
    },
    "kernelspec": {
      "name": "python3",
      "display_name": "Python 3"
    },
    "language_info": {
      "name": "python"
    }
  },
  "cells": [
    {
      "cell_type": "code",
      "execution_count": null,
      "metadata": {
        "id": "0-slHqyvHoVe"
      },
      "outputs": [],
      "source": [
        "#예제1\n",
        "from abc import ABC, abstractmethod\n",
        "from collections import namedtuple\n",
        "\n",
        "Customer = namedtuple('Customer', 'name fidelity')"
      ]
    },
    {
      "cell_type": "code",
      "source": [
        "park = Customer('Park', 100)\n",
        "park"
      ],
      "metadata": {
        "id": "WdZeD9acJtSP",
        "colab": {
          "base_uri": "https://localhost:8080/"
        },
        "outputId": "4393e190-6aaa-4af9-b5c9-8d7e7d12644c"
      },
      "execution_count": null,
      "outputs": [
        {
          "output_type": "execute_result",
          "data": {
            "text/plain": [
              "Customer(name='Park', fidelity=100)"
            ]
          },
          "metadata": {},
          "execution_count": 4
        }
      ]
    },
    {
      "cell_type": "code",
      "source": [
        "class LineItem:\n",
        "    def __init__(self, product, quantity, price):\n",
        "        self.product = product\n",
        "        self.quantity = quantity\n",
        "        self.price = price\n",
        "\n",
        "    def total(self):\n",
        "        return self.price * self.quantity"
      ],
      "metadata": {
        "id": "mZ9SMO_kJx-9"
      },
      "execution_count": null,
      "outputs": []
    },
    {
      "cell_type": "code",
      "source": [
        "class Order:\n",
        "    def __init__(self, customer, cart, promotion=None):\n",
        "        self.customer = customer\n",
        "        self.cart = list(cart)\n",
        "        self.promotion = promotion\n",
        "\n",
        "    def total(self):\n",
        "        if not hasattr(self, '__total'):\n",
        "            self.__total = sum(item.total() for item in self.cart)\n",
        "        return self.__total\n",
        "\n",
        "    def due(self):\n",
        "        if self.promotion is None:\n",
        "            discount = 0\n",
        "        else:\n",
        "            discount = self.promotion.discount(self)\n",
        "        return self.total() - discount\n",
        "    def __repr__(self):\n",
        "        fmt = '<Order total: {:.2f} due: {:.2f}>'\n",
        "        return fmt.format(self.total(), self.due())"
      ],
      "metadata": {
        "id": "ilvISDR_KB8M"
      },
      "execution_count": null,
      "outputs": []
    },
    {
      "cell_type": "code",
      "source": [
        "class Promotion(ABC):\n",
        "    @abstractmethod\n",
        "    def discount(self, order):\n",
        "        pass"
      ],
      "metadata": {
        "id": "gaBjiNmGK2s8"
      },
      "execution_count": null,
      "outputs": []
    },
    {
      "cell_type": "code",
      "source": [
        "class FidelityPromo(Promotion):\n",
        "    def discount(self, order):\n",
        "        return order.total() * 0.05 if order.customer.fidelity >= 1000 else 0\n",
        "\n",
        "class BulkItemPromo(Promotion):\n",
        "\n",
        "    def discount(self, order):\n",
        "        discount = 0\n",
        "        for item in order.cart:\n",
        "            if item.quantity >= 20:\n",
        "                discount += item.total() * 0.1\n",
        "        return discount\n",
        "\n",
        "class LargeOrderPromo(Promotion):\n",
        "\n",
        "    def discount(self, order):\n",
        "        distinct_itmes = {item.product for item in order.cart}\n",
        "        if len(distinct_itmes) >= 10:\n",
        "            return  order.total() * 0.07\n",
        "        return 0\n",
        "\n",
        "\n",
        "\n"
      ],
      "metadata": {
        "id": "iqidnGjpK_vw"
      },
      "execution_count": null,
      "outputs": []
    },
    {
      "cell_type": "code",
      "source": [
        "#예제 2\n",
        "joe = Customer('John Doe', 0)\n",
        "ann = Customer('Ann Smith', 1100)\n",
        "cart = [LineItem('banana', 4, .5),\n",
        "        LineItem('apple', 10, 1.5),\n",
        "        LineItem('watermelllon', 5, 5.0)]"
      ],
      "metadata": {
        "id": "KfM9kzsjW5Q3"
      },
      "execution_count": null,
      "outputs": []
    },
    {
      "cell_type": "code",
      "source": [
        "Order(joe, cart, FidelityPromo())"
      ],
      "metadata": {
        "colab": {
          "base_uri": "https://localhost:8080/"
        },
        "id": "fRf4neNZXOeO",
        "outputId": "4dae19e5-2664-4dac-a659-069fc6843985"
      },
      "execution_count": null,
      "outputs": [
        {
          "output_type": "execute_result",
          "data": {
            "text/plain": [
              "<Order total: 42.00 due: 42.00>"
            ]
          },
          "metadata": {},
          "execution_count": 13
        }
      ]
    },
    {
      "cell_type": "code",
      "source": [
        "Order(ann, cart, FidelityPromo())"
      ],
      "metadata": {
        "colab": {
          "base_uri": "https://localhost:8080/"
        },
        "id": "M1IgQgDTXRcH",
        "outputId": "f8131c4d-22d6-44d8-efcd-0610dfd48e17"
      },
      "execution_count": null,
      "outputs": [
        {
          "output_type": "execute_result",
          "data": {
            "text/plain": [
              "<Order total: 42.00 due: 39.90>"
            ]
          },
          "metadata": {},
          "execution_count": 14
        }
      ]
    },
    {
      "cell_type": "code",
      "source": [
        "banana_cart = [LineItem('banana', 30, .5),\n",
        "               LineItem('apple', 10, 1.5)]"
      ],
      "metadata": {
        "id": "c8yB3UbFXbQl"
      },
      "execution_count": null,
      "outputs": []
    },
    {
      "cell_type": "code",
      "source": [
        "Order(joe, banana_cart, BulkItemPromo())"
      ],
      "metadata": {
        "colab": {
          "base_uri": "https://localhost:8080/"
        },
        "id": "3IKrThsjXkHN",
        "outputId": "21712c2d-d217-4ee6-8726-095bf7ed830b"
      },
      "execution_count": null,
      "outputs": [
        {
          "output_type": "execute_result",
          "data": {
            "text/plain": [
              "<Order total: 30.00 due: 28.50>"
            ]
          },
          "metadata": {},
          "execution_count": 16
        }
      ]
    },
    {
      "cell_type": "code",
      "source": [
        "long_order = [LineItem(str(item_code), 1, 1.0) for item_code in range(10)]"
      ],
      "metadata": {
        "id": "yT6S0mJCXoIZ"
      },
      "execution_count": null,
      "outputs": []
    },
    {
      "cell_type": "code",
      "source": [
        "Order(joe, long_order, LargeOrderPromo())"
      ],
      "metadata": {
        "colab": {
          "base_uri": "https://localhost:8080/"
        },
        "id": "QYnOaV-LX0V8",
        "outputId": "89839d37-6a30-4697-9d1b-56af76848211"
      },
      "execution_count": null,
      "outputs": [
        {
          "output_type": "execute_result",
          "data": {
            "text/plain": [
              "<Order total: 10.00 due: 9.30>"
            ]
          },
          "metadata": {},
          "execution_count": 18
        }
      ]
    },
    {
      "cell_type": "code",
      "source": [
        "Order(joe, cart, LargeOrderPromo())"
      ],
      "metadata": {
        "colab": {
          "base_uri": "https://localhost:8080/"
        },
        "id": "lsinJ6sCX4Vk",
        "outputId": "ad001f26-7239-4b74-c98f-e2c7ace220fe"
      },
      "execution_count": null,
      "outputs": [
        {
          "output_type": "execute_result",
          "data": {
            "text/plain": [
              "<Order total: 42.00 due: 42.00>"
            ]
          },
          "metadata": {},
          "execution_count": 19
        }
      ]
    },
    {
      "cell_type": "code",
      "source": [
        "#예제3\n",
        "class Order:\n",
        "    def __init__(self, customer, cart, promotion=None):\n",
        "        self.customer = customer\n",
        "        self.cart = list(cart)\n",
        "        self.promotion = promotion\n",
        "\n",
        "    def total(self):\n",
        "        if not hasattr(self, '__total'):\n",
        "            self.__total = sum(item.total() for item in self.cart)\n",
        "        return self.__total\n",
        "\n",
        "    def due(self):\n",
        "        if self.promotion is None:\n",
        "            discount = 0\n",
        "        else:\n",
        "            discount = self.promotion(self)\n",
        "        return self.total() - discount\n",
        "\n",
        "    def __repr__(self):\n",
        "        fmt = '<Order total: {:.2f} due: {:.2f}>'\n",
        "        return fmt.format(self.total(), self.due())\n",
        "\n",
        "    def fidelity_promo(order):\n",
        "        return order.total() * 0.05 if order.customer.fidelity >= 1000 else 0\n",
        "\n",
        "    def bulk_item_promo(order):\n",
        "        discount = 0\n",
        "        for item in order.cart:\n",
        "            if item.quantity >= 20:\n",
        "                discount += item.total() * 0.1\n",
        "        return discount\n",
        "\n",
        "    def large_order_promo(order):\n",
        "        distinct_itmes = {item.product for item in order.cart}\n",
        "        if len(distinct_itmes) >= 10:\n",
        "            return  order.total() * 0.07\n",
        "        return 0\n"
      ],
      "metadata": {
        "id": "86at3BJkX6vD"
      },
      "execution_count": null,
      "outputs": []
    },
    {
      "cell_type": "code",
      "source": [
        "Order(joe, cart, fidelity_promo)\n",
        "\n"
      ],
      "metadata": {
        "colab": {
          "base_uri": "https://localhost:8080/"
        },
        "id": "-Dyp2b2vYMBq",
        "outputId": "9239885b-656e-4e55-a697-0e8d54430aa6"
      },
      "execution_count": null,
      "outputs": [
        {
          "output_type": "execute_result",
          "data": {
            "text/plain": [
              "<Order total: 42.00 due: 42.00>"
            ]
          },
          "metadata": {},
          "execution_count": 41
        }
      ]
    },
    {
      "cell_type": "code",
      "source": [
        "Order(ann, cart, fidelity_promo)\n",
        "\n"
      ],
      "metadata": {
        "colab": {
          "base_uri": "https://localhost:8080/"
        },
        "id": "99NlnUhqeGcC",
        "outputId": "464ccc3a-f432-4827-e9e0-9d8ab79f8611"
      },
      "execution_count": null,
      "outputs": [
        {
          "output_type": "execute_result",
          "data": {
            "text/plain": [
              "<Order total: 42.00 due: 39.90>"
            ]
          },
          "metadata": {},
          "execution_count": 40
        }
      ]
    },
    {
      "cell_type": "code",
      "source": [
        "Order(joe, banana_cart, bulk_item_promo)\n",
        "\n"
      ],
      "metadata": {
        "colab": {
          "base_uri": "https://localhost:8080/"
        },
        "id": "k6A1K_IOeHqn",
        "outputId": "c1dda5f8-58f1-42fc-c882-77a7ab69e538"
      },
      "execution_count": null,
      "outputs": [
        {
          "output_type": "execute_result",
          "data": {
            "text/plain": [
              "<Order total: 30.00 due: 28.50>"
            ]
          },
          "metadata": {},
          "execution_count": 42
        }
      ]
    },
    {
      "cell_type": "code",
      "source": [
        "Order(ann, long_order, large_order_promo)"
      ],
      "metadata": {
        "colab": {
          "base_uri": "https://localhost:8080/"
        },
        "id": "7WnUtsZYeJG6",
        "outputId": "1f84b06b-5f84-45c8-8677-b6ec9679858c"
      },
      "execution_count": null,
      "outputs": [
        {
          "output_type": "execute_result",
          "data": {
            "text/plain": [
              "<Order total: 10.00 due: 9.30>"
            ]
          },
          "metadata": {},
          "execution_count": 43
        }
      ]
    },
    {
      "cell_type": "code",
      "source": [
        "#예제4\n",
        "promos = [fidelity_promo, bulk_item_promo, large_order_promo]\n",
        "\n",
        "def best_promo(order):\n",
        "    return max(promo(order) for promo in promos)"
      ],
      "metadata": {
        "id": "D4GS8KZRY95w"
      },
      "execution_count": null,
      "outputs": []
    },
    {
      "cell_type": "code",
      "source": [
        "#예제5\n",
        "Order(joe, long_order, best_promo)"
      ],
      "metadata": {
        "colab": {
          "base_uri": "https://localhost:8080/"
        },
        "id": "POi7gNQ3aYzN",
        "outputId": "21d765ba-ea2e-488f-c293-67d6be39ce1a"
      },
      "execution_count": 50,
      "outputs": [
        {
          "output_type": "execute_result",
          "data": {
            "text/plain": [
              "<Order total: 10.00 due: 9.30>"
            ]
          },
          "metadata": {},
          "execution_count": 50
        }
      ]
    },
    {
      "cell_type": "code",
      "source": [
        "Order(joe, banana_cart, best_promo)"
      ],
      "metadata": {
        "id": "G-55B0uRaddg",
        "colab": {
          "base_uri": "https://localhost:8080/"
        },
        "outputId": "a0c451b4-6655-4a50-9978-6afd183f1aa6"
      },
      "execution_count": 46,
      "outputs": [
        {
          "output_type": "execute_result",
          "data": {
            "text/plain": [
              "<Order total: 30.00 due: 28.50>"
            ]
          },
          "metadata": {},
          "execution_count": 46
        }
      ]
    },
    {
      "cell_type": "code",
      "source": [
        "Order(ann, cart, best_promo)"
      ],
      "metadata": {
        "colab": {
          "base_uri": "https://localhost:8080/"
        },
        "id": "ou8zJiquedYs",
        "outputId": "c83a75e8-9634-4082-cef3-ab647887c444"
      },
      "execution_count": 47,
      "outputs": [
        {
          "output_type": "execute_result",
          "data": {
            "text/plain": [
              "<Order total: 42.00 due: 39.90>"
            ]
          },
          "metadata": {},
          "execution_count": 47
        }
      ]
    },
    {
      "cell_type": "code",
      "source": [
        "globals().keys()"
      ],
      "metadata": {
        "colab": {
          "base_uri": "https://localhost:8080/"
        },
        "id": "Uw_kIaJneg69",
        "outputId": "aac6b304-a4f0-4929-e009-4e9a771e5150"
      },
      "execution_count": 48,
      "outputs": [
        {
          "output_type": "execute_result",
          "data": {
            "text/plain": [
              "dict_keys(['__name__', '__doc__', '__package__', '__loader__', '__spec__', '__builtin__', '__builtins__', '_ih', '_oh', '_dh', 'In', 'Out', 'get_ipython', 'exit', 'quit', '_', '__', '___', '_i', '_ii', '_iii', '_i1', '_i2', 'ABC', 'abstractmethod', 'namedtuple', '_i3', 'Customer', '_i4', 'park', '_4', '_i5', 'LineItem', '_i6', 'Order', '_i7', 'Promotion', '_i8', '_i9', 'FidelityPromo', 'BulkItemPromo', 'LargeOrderPromo', '_i10', 'joe', 'ann', 'cart', '_i11', '_i12', '_i13', '_13', '_i14', '_14', '_i15', 'banana_cart', '_i16', '_16', '_i17', 'long_order', '_i18', '_18', '_i19', '_19', '_i20', '_i21', '_i22', '_i23', '_i24', '_i25', '_i26', 'fidelity_promo', 'bulk_item_promo', 'large_order_promo', '_i27', '_27', '_i28', '_i29', '_i30', '_30', '_i31', 'promos', 'best_promo', '_i32', '_32', '_i33', '_i34', '_34', '_i35', '_35', '_i36', '_i37', '_i38', '_38', '_i39', '_39', '_i40', '_40', '_i41', '_41', '_i42', '_42', '_i43', '_43', '_i44', '_i45', '_45', '_i46', '_46', '_i47', '_47', '_i48'])"
            ]
          },
          "metadata": {},
          "execution_count": 48
        }
      ]
    },
    {
      "cell_type": "code",
      "source": [
        "globals()['best_promo']"
      ],
      "metadata": {
        "colab": {
          "base_uri": "https://localhost:8080/",
          "height": 104
        },
        "id": "aj1gI7GUejcP",
        "outputId": "59390179-6029-4576-9597-88fdd70c2207"
      },
      "execution_count": 49,
      "outputs": [
        {
          "output_type": "execute_result",
          "data": {
            "text/plain": [
              "<function __main__.best_promo(order)>"
            ],
            "text/html": [
              "<div style=\"max-width:800px; border: 1px solid var(--colab-border-color);\"><style>\n",
              "      pre.function-repr-contents {\n",
              "        overflow-x: auto;\n",
              "        padding: 8px 12px;\n",
              "        max-height: 500px;\n",
              "      }\n",
              "\n",
              "      pre.function-repr-contents.function-repr-contents-collapsed {\n",
              "        cursor: pointer;\n",
              "        max-height: 100px;\n",
              "      }\n",
              "    </style>\n",
              "    <pre style=\"white-space: initial; background:\n",
              "         var(--colab-secondary-surface-color); padding: 8px 12px;\n",
              "         border-bottom: 1px solid var(--colab-border-color);\"><b>best_promo</b><br/>def best_promo(order)</pre><pre class=\"function-repr-contents function-repr-contents-collapsed\" style=\"\"><a class=\"filepath\" style=\"display:none\" href=\"#\">/content/&lt;ipython-input-44-4c71e389f1fb&gt;</a>&lt;no docstring&gt;</pre></div>"
            ]
          },
          "metadata": {},
          "execution_count": 49
        }
      ]
    },
    {
      "cell_type": "code",
      "source": [
        "#예제6\n",
        "promos = [globals()[name] for name in globals()\n",
        "    if name.endswith('_promo')\n",
        "    and name != 'best_promo']\n",
        "promos"
      ],
      "metadata": {
        "colab": {
          "base_uri": "https://localhost:8080/"
        },
        "id": "4wnBVngrelwR",
        "outputId": "e2fe5f2e-1987-4e60-c49d-1a4f0136260e"
      },
      "execution_count": 51,
      "outputs": [
        {
          "output_type": "execute_result",
          "data": {
            "text/plain": [
              "[<function __main__.fidelity_promo(order)>,\n",
              " <function __main__.bulk_item_promo(order)>,\n",
              " <function __main__.large_order_promo(order)>]"
            ]
          },
          "metadata": {},
          "execution_count": 51
        }
      ]
    },
    {
      "cell_type": "markdown",
      "source": [
        "-------------------------------------------------------------------"
      ],
      "metadata": {
        "id": "OggNHojDfCo7"
      }
    },
    {
      "cell_type": "code",
      "source": [
        "def deco(func):\n",
        "    def inner():\n",
        "        print('running inner()')\n",
        "    return inner"
      ],
      "metadata": {
        "id": "tAGUXmVIfFDC"
      },
      "execution_count": 52,
      "outputs": []
    },
    {
      "cell_type": "code",
      "source": [
        "@deco\n",
        "def target():\n",
        "    print(\"running target()\")\n",
        "\n",
        "target()"
      ],
      "metadata": {
        "colab": {
          "base_uri": "https://localhost:8080/"
        },
        "id": "a4eoTYi4fMGA",
        "outputId": "be337304-aef1-4887-f060-62fc33bc442a"
      },
      "execution_count": 53,
      "outputs": [
        {
          "output_type": "stream",
          "name": "stdout",
          "text": [
            "running inner()\n"
          ]
        }
      ]
    },
    {
      "cell_type": "code",
      "source": [
        "target"
      ],
      "metadata": {
        "colab": {
          "base_uri": "https://localhost:8080/",
          "height": 104
        },
        "id": "fFSqL-HLfRCU",
        "outputId": "4c28ea64-5fe6-4f96-80b8-f10e6a16a53f"
      },
      "execution_count": 54,
      "outputs": [
        {
          "output_type": "execute_result",
          "data": {
            "text/plain": [
              "<function __main__.deco.<locals>.inner()>"
            ],
            "text/html": [
              "<div style=\"max-width:800px; border: 1px solid var(--colab-border-color);\"><style>\n",
              "      pre.function-repr-contents {\n",
              "        overflow-x: auto;\n",
              "        padding: 8px 12px;\n",
              "        max-height: 500px;\n",
              "      }\n",
              "\n",
              "      pre.function-repr-contents.function-repr-contents-collapsed {\n",
              "        cursor: pointer;\n",
              "        max-height: 100px;\n",
              "      }\n",
              "    </style>\n",
              "    <pre style=\"white-space: initial; background:\n",
              "         var(--colab-secondary-surface-color); padding: 8px 12px;\n",
              "         border-bottom: 1px solid var(--colab-border-color);\"><b>deco.&lt;locals&gt;.inner</b><br/>def inner()</pre><pre class=\"function-repr-contents function-repr-contents-collapsed\" style=\"\"><a class=\"filepath\" style=\"display:none\" href=\"#\">/content/&lt;ipython-input-52-6fd010cb97ae&gt;</a>&lt;no docstring&gt;</pre></div>"
            ]
          },
          "metadata": {},
          "execution_count": 54
        }
      ]
    },
    {
      "cell_type": "code",
      "source": [
        "#예제2\n",
        "registry = []\n",
        "\n",
        "def register(func):\n",
        "    print('running register(%s)' % func)\n",
        "    registry.append(func)\n",
        "    return func\n",
        "\n",
        "@register\n",
        "def f1():\n",
        "    print('running f1()')\n",
        "\n",
        "@register\n",
        "def f2():\n",
        "    print('running f2()')\n",
        "\n",
        "@register\n",
        "def f3():\n",
        "    print('running f3()')\n",
        "\n",
        "def main():\n",
        "    print('running main()')\n",
        "    print('registry ->', registry)\n",
        "    f1()\n",
        "    f2()\n",
        "    f3()\n",
        "\n",
        "if __name__ == '__main__':\n",
        "    main()"
      ],
      "metadata": {
        "colab": {
          "base_uri": "https://localhost:8080/"
        },
        "id": "8mfizZ27fRxH",
        "outputId": "fdcfa0d3-cef9-4ee1-eb8f-9bb24b7067fd"
      },
      "execution_count": 55,
      "outputs": [
        {
          "output_type": "stream",
          "name": "stdout",
          "text": [
            "running register(<function f1 at 0x7d931ddd1000>)\n",
            "running register(<function f2 at 0x7d931df0ff40>)\n",
            "running register(<function f3 at 0x7d931df7ab90>)\n",
            "running main()\n",
            "registry -> [<function f1 at 0x7d931ddd1000>, <function f2 at 0x7d931df0ff40>, <function f3 at 0x7d931df7ab90>]\n",
            "running f1()\n",
            "running f2()\n",
            "running f3()\n"
          ]
        }
      ]
    },
    {
      "cell_type": "code",
      "source": [
        "#예제3\n",
        "promos = []\n",
        "\n",
        "def promotion(promo_func):\n",
        "    promos.append(promo_func)\n",
        "    return promo_func\n",
        "\n",
        "@promotion\n",
        "def fidelity_promo(order):\n",
        "    discount = 0\n",
        "    for item in order.cart:\n",
        "        if item.quantity >= 20:\n",
        "            discount += item.total() * 0.1\n",
        "    return discount\n",
        "\n",
        "@promotion\n",
        "def large_order_promo(order):\n",
        "    distinct_items = {item.product for item in order.cart}\n",
        "    if len(distinct_items) >= 10:\n",
        "        return order.total() * 0.07\n",
        "    return 0\n",
        "\n",
        "def best_promo(order):\n",
        "    return max(promo(order) for promo in promos)"
      ],
      "metadata": {
        "id": "ae0_KG-nf2Cv"
      },
      "execution_count": 56,
      "outputs": []
    },
    {
      "cell_type": "code",
      "source": [
        "#예제4\n",
        "def f1(a):\n",
        "    print(a)\n",
        "    print(b)\n",
        "b=6\n",
        "f1(3)"
      ],
      "metadata": {
        "colab": {
          "base_uri": "https://localhost:8080/"
        },
        "id": "YgakAeygglhk",
        "outputId": "4375810d-9656-45f0-a503-3ba34a8e2b5e"
      },
      "execution_count": 58,
      "outputs": [
        {
          "output_type": "stream",
          "name": "stdout",
          "text": [
            "3\n",
            "6\n"
          ]
        }
      ]
    },
    {
      "cell_type": "code",
      "source": [
        "#예제 5\n",
        "b = 6\n",
        "def f2(a):\n",
        "    print(a)\n",
        "    print(b)\n",
        "    b=9\n",
        "\n",
        "f2(3)"
      ],
      "metadata": {
        "colab": {
          "base_uri": "https://localhost:8080/",
          "height": 323
        },
        "id": "yHKCtLRAgsb_",
        "outputId": "c710fabc-5d29-41b5-89b2-0121581a0315"
      },
      "execution_count": 59,
      "outputs": [
        {
          "output_type": "stream",
          "name": "stdout",
          "text": [
            "3\n"
          ]
        },
        {
          "output_type": "error",
          "ename": "UnboundLocalError",
          "evalue": "local variable 'b' referenced before assignment",
          "traceback": [
            "\u001b[0;31m---------------------------------------------------------------------------\u001b[0m",
            "\u001b[0;31mUnboundLocalError\u001b[0m                         Traceback (most recent call last)",
            "\u001b[0;32m<ipython-input-59-aa471687f014>\u001b[0m in \u001b[0;36m<cell line: 8>\u001b[0;34m()\u001b[0m\n\u001b[1;32m      6\u001b[0m     \u001b[0mb\u001b[0m\u001b[0;34m=\u001b[0m\u001b[0;36m9\u001b[0m\u001b[0;34m\u001b[0m\u001b[0;34m\u001b[0m\u001b[0m\n\u001b[1;32m      7\u001b[0m \u001b[0;34m\u001b[0m\u001b[0m\n\u001b[0;32m----> 8\u001b[0;31m \u001b[0mf2\u001b[0m\u001b[0;34m(\u001b[0m\u001b[0;36m3\u001b[0m\u001b[0;34m)\u001b[0m\u001b[0;34m\u001b[0m\u001b[0;34m\u001b[0m\u001b[0m\n\u001b[0m",
            "\u001b[0;32m<ipython-input-59-aa471687f014>\u001b[0m in \u001b[0;36mf2\u001b[0;34m(a)\u001b[0m\n\u001b[1;32m      3\u001b[0m \u001b[0;32mdef\u001b[0m \u001b[0mf2\u001b[0m\u001b[0;34m(\u001b[0m\u001b[0ma\u001b[0m\u001b[0;34m)\u001b[0m\u001b[0;34m:\u001b[0m\u001b[0;34m\u001b[0m\u001b[0;34m\u001b[0m\u001b[0m\n\u001b[1;32m      4\u001b[0m     \u001b[0mprint\u001b[0m\u001b[0;34m(\u001b[0m\u001b[0ma\u001b[0m\u001b[0;34m)\u001b[0m\u001b[0;34m\u001b[0m\u001b[0;34m\u001b[0m\u001b[0m\n\u001b[0;32m----> 5\u001b[0;31m     \u001b[0mprint\u001b[0m\u001b[0;34m(\u001b[0m\u001b[0mb\u001b[0m\u001b[0;34m)\u001b[0m\u001b[0;34m\u001b[0m\u001b[0;34m\u001b[0m\u001b[0m\n\u001b[0m\u001b[1;32m      6\u001b[0m     \u001b[0mb\u001b[0m\u001b[0;34m=\u001b[0m\u001b[0;36m9\u001b[0m\u001b[0;34m\u001b[0m\u001b[0;34m\u001b[0m\u001b[0m\n\u001b[1;32m      7\u001b[0m \u001b[0;34m\u001b[0m\u001b[0m\n",
            "\u001b[0;31mUnboundLocalError\u001b[0m: local variable 'b' referenced before assignment"
          ]
        }
      ]
    },
    {
      "cell_type": "code",
      "source": [
        "#예제6\n",
        "b = 6\n",
        "def f3(a):\n",
        "    global b\n",
        "    print(a)\n",
        "    print(b)\n",
        "    b=9\n",
        "\n",
        "f3(3)\n",
        "b"
      ],
      "metadata": {
        "colab": {
          "base_uri": "https://localhost:8080/"
        },
        "id": "L0KjeYWYg62U",
        "outputId": "fe93d8f2-283a-455c-9da0-fb9e5d831da9"
      },
      "execution_count": 60,
      "outputs": [
        {
          "output_type": "stream",
          "name": "stdout",
          "text": [
            "3\n",
            "6\n"
          ]
        },
        {
          "output_type": "execute_result",
          "data": {
            "text/plain": [
              "9"
            ]
          },
          "metadata": {},
          "execution_count": 60
        }
      ]
    },
    {
      "cell_type": "code",
      "source": [
        "f3(3)"
      ],
      "metadata": {
        "colab": {
          "base_uri": "https://localhost:8080/"
        },
        "id": "zQaoRuY0hIlI",
        "outputId": "5711231f-b2fc-44f8-e284-dc25ff851e7d"
      },
      "execution_count": 61,
      "outputs": [
        {
          "output_type": "stream",
          "name": "stdout",
          "text": [
            "3\n",
            "9\n"
          ]
        }
      ]
    },
    {
      "cell_type": "code",
      "source": [
        "b=30\n",
        "f3(3)"
      ],
      "metadata": {
        "colab": {
          "base_uri": "https://localhost:8080/"
        },
        "id": "MFDrSAuJhKz1",
        "outputId": "9ee531af-b292-4574-c22c-4b2ffceea4cc"
      },
      "execution_count": 62,
      "outputs": [
        {
          "output_type": "stream",
          "name": "stdout",
          "text": [
            "3\n",
            "30\n"
          ]
        }
      ]
    },
    {
      "cell_type": "code",
      "source": [
        "#예제7\n",
        "class Averager():\n",
        "    def __init__(self):\n",
        "        self.series = []\n",
        "\n",
        "    def __call__(self, new_value):\n",
        "        self.series.append(new_value)\n",
        "        total = sum(self.series)\n",
        "        return total/len(self.series)"
      ],
      "metadata": {
        "id": "JsXFBIV0hMQu"
      },
      "execution_count": 64,
      "outputs": []
    },
    {
      "cell_type": "code",
      "source": [
        "avg = Averager()\n",
        "avg(10)"
      ],
      "metadata": {
        "colab": {
          "base_uri": "https://localhost:8080/"
        },
        "id": "f94G33VvhcFr",
        "outputId": "bde05695-5ede-4c11-935a-c985ac3c293f"
      },
      "execution_count": 65,
      "outputs": [
        {
          "output_type": "execute_result",
          "data": {
            "text/plain": [
              "10.0"
            ]
          },
          "metadata": {},
          "execution_count": 65
        }
      ]
    },
    {
      "cell_type": "code",
      "source": [
        "avg(11)\n"
      ],
      "metadata": {
        "colab": {
          "base_uri": "https://localhost:8080/"
        },
        "id": "t_ucpV2ChiI7",
        "outputId": "8295ba3c-807c-44a3-8285-5f5f30d9b656"
      },
      "execution_count": 66,
      "outputs": [
        {
          "output_type": "execute_result",
          "data": {
            "text/plain": [
              "10.5"
            ]
          },
          "metadata": {},
          "execution_count": 66
        }
      ]
    },
    {
      "cell_type": "code",
      "source": [
        "avg(12)"
      ],
      "metadata": {
        "colab": {
          "base_uri": "https://localhost:8080/"
        },
        "id": "-T2Obvlwhjso",
        "outputId": "b5587442-9fdc-42ff-cc47-feb042be3277"
      },
      "execution_count": 67,
      "outputs": [
        {
          "output_type": "execute_result",
          "data": {
            "text/plain": [
              "11.0"
            ]
          },
          "metadata": {},
          "execution_count": 67
        }
      ]
    },
    {
      "cell_type": "code",
      "source": [
        "#예제 8\n",
        "def make_avergaer():\n",
        "    series = []\n",
        "\n",
        "    def averager(new_value):\n",
        "        series.append(new_value)\n",
        "        total = sum(series)\n",
        "        return total/len(series)\n",
        "\n",
        "    return averager"
      ],
      "metadata": {
        "id": "XwteQu4hhku7"
      },
      "execution_count": 68,
      "outputs": []
    },
    {
      "cell_type": "code",
      "source": [
        "avg = make_avergaer()\n",
        "avg(10)"
      ],
      "metadata": {
        "colab": {
          "base_uri": "https://localhost:8080/"
        },
        "id": "elXpX88Wh4PF",
        "outputId": "80fa054b-4c27-45dd-985c-bf5287904c14"
      },
      "execution_count": 69,
      "outputs": [
        {
          "output_type": "execute_result",
          "data": {
            "text/plain": [
              "10.0"
            ]
          },
          "metadata": {},
          "execution_count": 69
        }
      ]
    },
    {
      "cell_type": "code",
      "source": [
        "avg(11)"
      ],
      "metadata": {
        "colab": {
          "base_uri": "https://localhost:8080/"
        },
        "id": "zAWILIrWh7aS",
        "outputId": "08d01a2f-5063-4b11-b284-288ada3c7c6e"
      },
      "execution_count": 70,
      "outputs": [
        {
          "output_type": "execute_result",
          "data": {
            "text/plain": [
              "10.5"
            ]
          },
          "metadata": {},
          "execution_count": 70
        }
      ]
    },
    {
      "cell_type": "code",
      "source": [
        "avg(12)"
      ],
      "metadata": {
        "colab": {
          "base_uri": "https://localhost:8080/"
        },
        "id": "i3VwvgWyh8Ta",
        "outputId": "f7a7b500-abfb-4b3a-c14c-c9a800996fab"
      },
      "execution_count": 71,
      "outputs": [
        {
          "output_type": "execute_result",
          "data": {
            "text/plain": [
              "11.0"
            ]
          },
          "metadata": {},
          "execution_count": 71
        }
      ]
    },
    {
      "cell_type": "code",
      "source": [
        "#예제9\n",
        "avg.__code__.co_varnames"
      ],
      "metadata": {
        "colab": {
          "base_uri": "https://localhost:8080/"
        },
        "id": "zleEVSAth9Ns",
        "outputId": "dd756c05-ba1a-435a-a07a-a6059cccde26"
      },
      "execution_count": 72,
      "outputs": [
        {
          "output_type": "execute_result",
          "data": {
            "text/plain": [
              "('new_value', 'total')"
            ]
          },
          "metadata": {},
          "execution_count": 72
        }
      ]
    },
    {
      "cell_type": "code",
      "source": [
        "avg.__code__.co_freevars"
      ],
      "metadata": {
        "colab": {
          "base_uri": "https://localhost:8080/"
        },
        "id": "uwtYIX50iDj3",
        "outputId": "3380f502-a023-40ec-e146-87c0de1b7974"
      },
      "execution_count": 73,
      "outputs": [
        {
          "output_type": "execute_result",
          "data": {
            "text/plain": [
              "('series',)"
            ]
          },
          "metadata": {},
          "execution_count": 73
        }
      ]
    },
    {
      "cell_type": "code",
      "source": [
        "avg.__closure__"
      ],
      "metadata": {
        "colab": {
          "base_uri": "https://localhost:8080/"
        },
        "id": "QNO7hMJ8iGFc",
        "outputId": "e894a49e-53de-4122-bd29-8ba6e575cba6"
      },
      "execution_count": 74,
      "outputs": [
        {
          "output_type": "execute_result",
          "data": {
            "text/plain": [
              "(<cell at 0x7d931dfd2980: list object at 0x7d931de5e940>,)"
            ]
          },
          "metadata": {},
          "execution_count": 74
        }
      ]
    },
    {
      "cell_type": "code",
      "source": [
        "avg.__closure__[0].cell_contents"
      ],
      "metadata": {
        "colab": {
          "base_uri": "https://localhost:8080/"
        },
        "id": "7CDT7GUkiHmU",
        "outputId": "473b8d0e-b862-41b6-ea69-a2f251f09bf5"
      },
      "execution_count": 75,
      "outputs": [
        {
          "output_type": "execute_result",
          "data": {
            "text/plain": [
              "[10, 11, 12]"
            ]
          },
          "metadata": {},
          "execution_count": 75
        }
      ]
    },
    {
      "cell_type": "code",
      "source": [
        "#예제10\n",
        "def make_averager():\n",
        "    count = 0\n",
        "    total = 0\n",
        "\n",
        "    def averager(new_value):\n",
        "        count += 1\n",
        "        total += new_value\n",
        "        return total / count\n",
        "\n",
        "    return averager"
      ],
      "metadata": {
        "id": "bbXly8JgiK1x"
      },
      "execution_count": 78,
      "outputs": []
    },
    {
      "cell_type": "code",
      "source": [
        "avg = make_averager()\n",
        "avg(10)"
      ],
      "metadata": {
        "colab": {
          "base_uri": "https://localhost:8080/",
          "height": 287
        },
        "id": "t4sTiChsiTLJ",
        "outputId": "d1d28e60-e934-4892-c582-a53acd1f3aa6"
      },
      "execution_count": 79,
      "outputs": [
        {
          "output_type": "error",
          "ename": "UnboundLocalError",
          "evalue": "local variable 'count' referenced before assignment",
          "traceback": [
            "\u001b[0;31m---------------------------------------------------------------------------\u001b[0m",
            "\u001b[0;31mUnboundLocalError\u001b[0m                         Traceback (most recent call last)",
            "\u001b[0;32m<ipython-input-79-b5a6bb6dc4cd>\u001b[0m in \u001b[0;36m<cell line: 2>\u001b[0;34m()\u001b[0m\n\u001b[1;32m      1\u001b[0m \u001b[0mavg\u001b[0m \u001b[0;34m=\u001b[0m \u001b[0mmake_averager\u001b[0m\u001b[0;34m(\u001b[0m\u001b[0;34m)\u001b[0m\u001b[0;34m\u001b[0m\u001b[0;34m\u001b[0m\u001b[0m\n\u001b[0;32m----> 2\u001b[0;31m \u001b[0mavg\u001b[0m\u001b[0;34m(\u001b[0m\u001b[0;36m10\u001b[0m\u001b[0;34m)\u001b[0m\u001b[0;34m\u001b[0m\u001b[0;34m\u001b[0m\u001b[0m\n\u001b[0m",
            "\u001b[0;32m<ipython-input-78-b086ab07107f>\u001b[0m in \u001b[0;36maverager\u001b[0;34m(new_value)\u001b[0m\n\u001b[1;32m      5\u001b[0m \u001b[0;34m\u001b[0m\u001b[0m\n\u001b[1;32m      6\u001b[0m     \u001b[0;32mdef\u001b[0m \u001b[0maverager\u001b[0m\u001b[0;34m(\u001b[0m\u001b[0mnew_value\u001b[0m\u001b[0;34m)\u001b[0m\u001b[0;34m:\u001b[0m\u001b[0;34m\u001b[0m\u001b[0;34m\u001b[0m\u001b[0m\n\u001b[0;32m----> 7\u001b[0;31m         \u001b[0mcount\u001b[0m \u001b[0;34m+=\u001b[0m \u001b[0;36m1\u001b[0m\u001b[0;34m\u001b[0m\u001b[0;34m\u001b[0m\u001b[0m\n\u001b[0m\u001b[1;32m      8\u001b[0m         \u001b[0mtotal\u001b[0m \u001b[0;34m+=\u001b[0m \u001b[0mnew_value\u001b[0m\u001b[0;34m\u001b[0m\u001b[0;34m\u001b[0m\u001b[0m\n\u001b[1;32m      9\u001b[0m         \u001b[0;32mreturn\u001b[0m \u001b[0mtotal\u001b[0m \u001b[0;34m/\u001b[0m \u001b[0mcount\u001b[0m\u001b[0;34m\u001b[0m\u001b[0;34m\u001b[0m\u001b[0m\n",
            "\u001b[0;31mUnboundLocalError\u001b[0m: local variable 'count' referenced before assignment"
          ]
        }
      ]
    },
    {
      "cell_type": "code",
      "source": [
        "#예제 11\n",
        "def make_averager():\n",
        "    count = 0\n",
        "    total = 0\n",
        "\n",
        "    def averager(new_value):\n",
        "        nonlocal count, total\n",
        "        count += 1\n",
        "        total += new_value\n",
        "        return total / count\n",
        "\n",
        "    return averager"
      ],
      "metadata": {
        "id": "HXD2x5Niicbr"
      },
      "execution_count": 80,
      "outputs": []
    },
    {
      "cell_type": "code",
      "source": [
        "avg = make_averager()\n",
        "avg(10)"
      ],
      "metadata": {
        "colab": {
          "base_uri": "https://localhost:8080/"
        },
        "id": "-wKdpetLir_v",
        "outputId": "2dab5589-5ebb-4492-ec20-3e43a1f6c026"
      },
      "execution_count": 81,
      "outputs": [
        {
          "output_type": "execute_result",
          "data": {
            "text/plain": [
              "10.0"
            ]
          },
          "metadata": {},
          "execution_count": 81
        }
      ]
    },
    {
      "cell_type": "code",
      "source": [
        "#예제 12\n",
        "import time\n",
        "\n",
        "def clock(func):\n",
        "    def clocked(*args):\n",
        "        t0 = time.perf_counter()\n",
        "        result = func(*args)\n",
        "        elapsed = time.perf_counter() - t0\n",
        "        name = func.__name__\n",
        "        arg_str = ', '.join(repr(arg) for arg in args)\n",
        "        print('[%0.8fs] %s(%s) -> %r' % (elapsed, name, arg_str, result))\n",
        "        return result\n",
        "    return clocked"
      ],
      "metadata": {
        "id": "N1GkzeXRiuuF"
      },
      "execution_count": 82,
      "outputs": []
    },
    {
      "cell_type": "code",
      "source": [
        "#예제13\n",
        "@clock\n",
        "def snooze(seconds):\n",
        "    time.sleep(seconds)\n",
        "\n",
        "@clock\n",
        "def factorial(n):\n",
        "    return 1 if n <2 else n*factorial(n-1)\n",
        "\n",
        "if __name__=='__main__':\n",
        "    print('*'*40, 'Calling snooze(.123)')\n",
        "    snooze(.123)\n",
        "    print('*'*40, 'calling factorial(6)')\n",
        "    print('6! = ', factorial(6))"
      ],
      "metadata": {
        "colab": {
          "base_uri": "https://localhost:8080/"
        },
        "id": "3HlmomBCjOov",
        "outputId": "db342411-ae98-4e87-fb25-9d3503bd01c0"
      },
      "execution_count": 83,
      "outputs": [
        {
          "output_type": "stream",
          "name": "stdout",
          "text": [
            "**************************************** Calling snooze(.123)\n",
            "[0.12330689s] snooze(0.123) -> None\n",
            "**************************************** calling factorial(6)\n",
            "[0.00000098s] factorial(1) -> 1\n",
            "[0.00003733s] factorial(2) -> 2\n",
            "[0.00006845s] factorial(3) -> 6\n",
            "[0.00009902s] factorial(4) -> 24\n",
            "[0.00012863s] factorial(5) -> 120\n",
            "[0.00016091s] factorial(6) -> 720\n",
            "6! =  720\n"
          ]
        }
      ]
    },
    {
      "cell_type": "code",
      "source": [
        "factorial.__name__"
      ],
      "metadata": {
        "colab": {
          "base_uri": "https://localhost:8080/",
          "height": 35
        },
        "id": "bWYdvBjDjt93",
        "outputId": "bd301631-7f6a-4e63-f15e-d1dc417c418c"
      },
      "execution_count": 84,
      "outputs": [
        {
          "output_type": "execute_result",
          "data": {
            "text/plain": [
              "'clocked'"
            ],
            "application/vnd.google.colaboratory.intrinsic+json": {
              "type": "string"
            }
          },
          "metadata": {},
          "execution_count": 84
        }
      ]
    },
    {
      "cell_type": "code",
      "source": [
        "import time\n",
        "import functools\n",
        "\n",
        "def clock(func):\n",
        "    @functools.wraps(func)\n",
        "    def clocked(*args, **kwargs):\n",
        "        t0 = time.time()\n",
        "        result = func(*args, **kwargs)\n",
        "        elapsed = time.time() - t0\n",
        "        arg_lst = []\n",
        "        name = func.__name__\n",
        "        if args:\n",
        "            arg_lst.append(', '.join(repr(arg) for arg in args))\n",
        "        if kwargs:\n",
        "            pairs = ['%s=%r' % (k,w) for k,w in sorted(kwargs.items())]\n",
        "            arg_lst.append(', '.join(pairs))\n",
        "        arg_str = ', '.join(arg_lst)\n",
        "        print('[%0.8fs] %s(%s) -> %r' % (elapsed, name, arg_str, result))\n",
        "        return result\n",
        "    return clocked"
      ],
      "metadata": {
        "id": "QKdKsmaajykM"
      },
      "execution_count": 85,
      "outputs": []
    },
    {
      "cell_type": "code",
      "source": [
        "@clock\n",
        "def snooze(seconds):\n",
        "    time.sleep(seconds)\n",
        "\n",
        "@clock\n",
        "def factorial(n):\n",
        "    return 1 if n <2 else n*factorial(n-1)\n",
        "\n",
        "if __name__=='__main__':\n",
        "    print('*'*40, 'Calling snooze(.123)')\n",
        "    snooze(.123)\n",
        "    print('*'*40, 'calling factorial(6)')\n",
        "    print('6! = ', factorial(6))"
      ],
      "metadata": {
        "colab": {
          "base_uri": "https://localhost:8080/"
        },
        "id": "cZmwshmNkqj1",
        "outputId": "60f10a6e-8b19-419e-f684-180cee9e8cb9"
      },
      "execution_count": 86,
      "outputs": [
        {
          "output_type": "stream",
          "name": "stdout",
          "text": [
            "**************************************** Calling snooze(.123)\n",
            "[0.12321711s] snooze(0.123) -> None\n",
            "**************************************** calling factorial(6)\n",
            "[0.00000095s] factorial(1) -> 1\n",
            "[0.00003290s] factorial(2) -> 2\n",
            "[0.00005484s] factorial(3) -> 6\n",
            "[0.00007463s] factorial(4) -> 24\n",
            "[0.00009394s] factorial(5) -> 120\n",
            "[0.00011444s] factorial(6) -> 720\n",
            "6! =  720\n"
          ]
        }
      ]
    },
    {
      "cell_type": "code",
      "source": [
        "factorial.__name__"
      ],
      "metadata": {
        "colab": {
          "base_uri": "https://localhost:8080/",
          "height": 35
        },
        "id": "Ih478VQKk5ls",
        "outputId": "00f74b42-dc4c-42c6-a783-f958c54c0686"
      },
      "execution_count": 87,
      "outputs": [
        {
          "output_type": "execute_result",
          "data": {
            "text/plain": [
              "'factorial'"
            ],
            "application/vnd.google.colaboratory.intrinsic+json": {
              "type": "string"
            }
          },
          "metadata": {},
          "execution_count": 87
        }
      ]
    },
    {
      "cell_type": "code",
      "source": [],
      "metadata": {
        "id": "8GNcw308k87c"
      },
      "execution_count": null,
      "outputs": []
    }
  ]
}