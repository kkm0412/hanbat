{
  "nbformat": 4,
  "nbformat_minor": 0,
  "metadata": {
    "colab": {
      "provenance": []
    },
    "kernelspec": {
      "name": "python3",
      "display_name": "Python 3"
    },
    "language_info": {
      "name": "python"
    }
  },
  "cells": [
    {
      "cell_type": "code",
      "source": [
        "#예제 10\n",
        "open('cafe.txt', 'w', encoding='utf8').write('café')"
      ],
      "metadata": {
        "colab": {
          "base_uri": "https://localhost:8080/"
        },
        "id": "eBTypKHK8uhO",
        "outputId": "b8f72456-cdf5-4d77-88fa-b22de0143afa"
      },
      "execution_count": null,
      "outputs": [
        {
          "output_type": "execute_result",
          "data": {
            "text/plain": [
              "5"
            ]
          },
          "metadata": {},
          "execution_count": 13
        }
      ]
    },
    {
      "cell_type": "code",
      "source": [
        "open('cafe.txt').read()"
      ],
      "metadata": {
        "colab": {
          "base_uri": "https://localhost:8080/",
          "height": 35
        },
        "id": "Q02I2oEy9Aso",
        "outputId": "e9161f10-aaa5-4707-df32-b7547f173e2a"
      },
      "execution_count": null,
      "outputs": [
        {
          "output_type": "execute_result",
          "data": {
            "text/plain": [
              "'café'"
            ],
            "application/vnd.google.colaboratory.intrinsic+json": {
              "type": "string"
            }
          },
          "metadata": {},
          "execution_count": 14
        }
      ]
    },
    {
      "cell_type": "code",
      "execution_count": null,
      "metadata": {
        "colab": {
          "base_uri": "https://localhost:8080/"
        },
        "id": "nY5kAjuR5l_i",
        "outputId": "fffaf14d-2021-4086-8c25-d721e18c3712"
      },
      "outputs": [
        {
          "output_type": "stream",
          "name": "stdout",
          "text": [
            " locale.getpreferredencoding() -> 'UTF-8'\n",
            "                 type(my_file) -> <class '_io.TextIOWrapper'>\n",
            "              my_file.encoding -> 'UTF-8'\n",
            "           sys.stdout.isatty() -> False\n",
            "           sys.stdout.encoding -> 'UTF-8'\n",
            "            sys.stdin.isatty() -> False\n",
            "            sys.stdin.encoding -> 'utf-8'\n",
            "           sys.stderr.isatty() -> False\n",
            "           sys.stderr.encoding -> 'UTF-8'\n",
            "      sys.getdefaultencoding() -> 'utf-8'\n",
            "   sys.getfilesystemencoding() -> 'utf-8'\n"
          ]
        }
      ],
      "source": [
        "#예제 11\n",
        "import sys, locale\n",
        "\n",
        "expressions = \"\"\"\n",
        "    locale.getpreferredencoding()\n",
        "    type(my_file)\n",
        "    my_file.encoding\n",
        "    sys.stdout.isatty()\n",
        "    sys.stdout.encoding\n",
        "    sys.stdin.isatty()\n",
        "    sys.stdin.encoding\n",
        "    sys.stderr.isatty()\n",
        "    sys.stderr.encoding\n",
        "    sys.getdefaultencoding()\n",
        "    sys.getfilesystemencoding()\n",
        "    \"\"\"\n",
        "\n",
        "my_file = open('dummy', 'w')\n",
        "\n",
        "for expression in expressions.split():\n",
        "    value = eval(expression)\n",
        "    print(expression.rjust(30), '->', repr(value))\n"
      ]
    },
    {
      "cell_type": "code",
      "source": [
        "#예제12\n",
        "from unicodedata import normalize\n",
        "s1 = s2= \"café\"\n",
        "len(normalize('NFC',s1)), len(normalize('NFC', s2))"
      ],
      "metadata": {
        "colab": {
          "base_uri": "https://localhost:8080/"
        },
        "id": "9yGve0Bo7IEc",
        "outputId": "aa878fac-9b75-47d1-d9c0-0b7206b668e7"
      },
      "execution_count": null,
      "outputs": [
        {
          "output_type": "execute_result",
          "data": {
            "text/plain": [
              "(4, 4)"
            ]
          },
          "metadata": {},
          "execution_count": 12
        }
      ]
    },
    {
      "cell_type": "code",
      "source": [
        "len(normalize('NFD',s1)), len(normalize('NFD',s2))"
      ],
      "metadata": {
        "colab": {
          "base_uri": "https://localhost:8080/"
        },
        "id": "HKlH8PTI8AMB",
        "outputId": "3b00c3ca-eb66-4b32-d787-fc555422cfe4"
      },
      "execution_count": null,
      "outputs": [
        {
          "output_type": "execute_result",
          "data": {
            "text/plain": [
              "(5, 5)"
            ]
          },
          "metadata": {},
          "execution_count": 8
        }
      ]
    },
    {
      "cell_type": "code",
      "source": [
        "normalize('NFC',s1), normalize('NFC',s2)"
      ],
      "metadata": {
        "colab": {
          "base_uri": "https://localhost:8080/"
        },
        "id": "iepU7dRm8IOn",
        "outputId": "b543c4e2-f4fc-4024-f506-5d007d0a76cc"
      },
      "execution_count": null,
      "outputs": [
        {
          "output_type": "execute_result",
          "data": {
            "text/plain": [
              "('café', 'café')"
            ]
          },
          "metadata": {},
          "execution_count": 9
        }
      ]
    },
    {
      "cell_type": "code",
      "source": [
        "normalize('NFD',s1), normalize('NFD',s2)"
      ],
      "metadata": {
        "colab": {
          "base_uri": "https://localhost:8080/"
        },
        "id": "Gs-tbHX18Wwn",
        "outputId": "45bc71fd-046a-4a80-bfed-183d4f06407c"
      },
      "execution_count": null,
      "outputs": [
        {
          "output_type": "execute_result",
          "data": {
            "text/plain": [
              "('café', 'café')"
            ]
          },
          "metadata": {},
          "execution_count": 10
        }
      ]
    },
    {
      "cell_type": "code",
      "source": [
        "normalize('NFC',s1) == normalize('NFC',s2)"
      ],
      "metadata": {
        "colab": {
          "base_uri": "https://localhost:8080/"
        },
        "id": "QRh4Yw9d9NnZ",
        "outputId": "73cee314-ceb8-4528-8a14-78b34f5a0497"
      },
      "execution_count": null,
      "outputs": [
        {
          "output_type": "execute_result",
          "data": {
            "text/plain": [
              "True"
            ]
          },
          "metadata": {},
          "execution_count": 15
        }
      ]
    },
    {
      "cell_type": "code",
      "source": [
        "normalize('NFD',s1) == normalize('NFD',s2)"
      ],
      "metadata": {
        "colab": {
          "base_uri": "https://localhost:8080/"
        },
        "id": "CAVS0F-c9WXR",
        "outputId": "1c950661-4ae0-43a6-8ecf-d0f98696c890"
      },
      "execution_count": null,
      "outputs": [
        {
          "output_type": "execute_result",
          "data": {
            "text/plain": [
              "True"
            ]
          },
          "metadata": {},
          "execution_count": 16
        }
      ]
    },
    {
      "cell_type": "code",
      "source": [
        "#예제 13\n",
        "from unicodedata import normalize, name\n",
        "ohm = '\\u2126'\n",
        "name(ohm)"
      ],
      "metadata": {
        "colab": {
          "base_uri": "https://localhost:8080/",
          "height": 35
        },
        "id": "IIVXKzmc9c-U",
        "outputId": "56703783-1f4c-4a7d-bc42-e65b05883347"
      },
      "execution_count": null,
      "outputs": [
        {
          "output_type": "execute_result",
          "data": {
            "text/plain": [
              "'OHM SIGN'"
            ],
            "application/vnd.google.colaboratory.intrinsic+json": {
              "type": "string"
            }
          },
          "metadata": {},
          "execution_count": 17
        }
      ]
    },
    {
      "cell_type": "code",
      "source": [
        "ohm_c = normalize('NFC', ohm)\n",
        "name(ohm_c)"
      ],
      "metadata": {
        "colab": {
          "base_uri": "https://localhost:8080/",
          "height": 35
        },
        "id": "wR9KwgG49upB",
        "outputId": "b22754b0-cf69-4fbf-b5e6-fb99acad68b9"
      },
      "execution_count": null,
      "outputs": [
        {
          "output_type": "execute_result",
          "data": {
            "text/plain": [
              "'GREEK CAPITAL LETTER OMEGA'"
            ],
            "application/vnd.google.colaboratory.intrinsic+json": {
              "type": "string"
            }
          },
          "metadata": {},
          "execution_count": 18
        }
      ]
    },
    {
      "cell_type": "code",
      "source": [
        "ohm, ohm_c, ohm == ohm_c"
      ],
      "metadata": {
        "colab": {
          "base_uri": "https://localhost:8080/"
        },
        "id": "m7kmvipe92Zx",
        "outputId": "a79192f1-217e-4626-de5a-8425da212fc5"
      },
      "execution_count": null,
      "outputs": [
        {
          "output_type": "execute_result",
          "data": {
            "text/plain": [
              "('Ω', 'Ω', False)"
            ]
          },
          "metadata": {},
          "execution_count": 19
        }
      ]
    },
    {
      "cell_type": "code",
      "source": [
        "normalize('NFC', ohm) == normalize('NFC', ohm_c)"
      ],
      "metadata": {
        "colab": {
          "base_uri": "https://localhost:8080/"
        },
        "id": "RdEcLdUg9_OE",
        "outputId": "a83a252a-0acc-41a3-997c-afcf810ffa01"
      },
      "execution_count": null,
      "outputs": [
        {
          "output_type": "execute_result",
          "data": {
            "text/plain": [
              "True"
            ]
          },
          "metadata": {},
          "execution_count": 20
        }
      ]
    },
    {
      "cell_type": "code",
      "source": [
        "#예제14\n",
        "eszett = 'ß'\n",
        "name(eszett)"
      ],
      "metadata": {
        "colab": {
          "base_uri": "https://localhost:8080/",
          "height": 35
        },
        "id": "JbfTHfbT-GBp",
        "outputId": "d720a7a9-f1ff-44dd-f03e-023d0c7a2849"
      },
      "execution_count": null,
      "outputs": [
        {
          "output_type": "execute_result",
          "data": {
            "text/plain": [
              "'LATIN SMALL LETTER SHARP S'"
            ],
            "application/vnd.google.colaboratory.intrinsic+json": {
              "type": "string"
            }
          },
          "metadata": {},
          "execution_count": 21
        }
      ]
    },
    {
      "cell_type": "code",
      "source": [
        "eszett_cf = eszett.casefold()\n",
        "eszett_cf2 = eszett.lower()\n",
        "eszett, eszett_cf, eszett_cf2"
      ],
      "metadata": {
        "colab": {
          "base_uri": "https://localhost:8080/"
        },
        "id": "k9dbAR1b-VRx",
        "outputId": "93e34930-471f-402a-dffc-ac7b008bb5ba"
      },
      "execution_count": null,
      "outputs": [
        {
          "output_type": "execute_result",
          "data": {
            "text/plain": [
              "('ß', 'ss', 'ß')"
            ]
          },
          "metadata": {},
          "execution_count": 22
        }
      ]
    },
    {
      "cell_type": "code",
      "source": [
        "#예제15\n",
        "s1 = 'café'\n",
        "s2 = 'cafe\\u0301'\n",
        "\n",
        "s1 == s2"
      ],
      "metadata": {
        "colab": {
          "base_uri": "https://localhost:8080/"
        },
        "id": "BkcqZRZ_-hzn",
        "outputId": "c482c15c-ea11-44bc-a7de-dcc9fa8bd2f2"
      },
      "execution_count": null,
      "outputs": [
        {
          "output_type": "execute_result",
          "data": {
            "text/plain": [
              "False"
            ]
          },
          "metadata": {},
          "execution_count": 23
        }
      ]
    },
    {
      "cell_type": "code",
      "source": [
        "from unicodedata import normalize\n",
        "\n",
        "def nfc_equal(str1, str2):\n",
        "    return normalize('NFC', str1) == normalize('NFC', str2)\n",
        "\n",
        "def fold_equal(str1, str2):\n",
        "    return(normalize('NFC', str1).casefold() ==\n",
        "           normalize('NFC', str2).casefold())\n",
        "\n",
        "nfc_equal(s1, s2)"
      ],
      "metadata": {
        "colab": {
          "base_uri": "https://localhost:8080/"
        },
        "id": "4Fta6zsj_AoJ",
        "outputId": "4aa1c858-279e-421a-c689-6bf2ab464d3a"
      },
      "execution_count": null,
      "outputs": [
        {
          "output_type": "execute_result",
          "data": {
            "text/plain": [
              "True"
            ]
          },
          "metadata": {},
          "execution_count": 25
        }
      ]
    },
    {
      "cell_type": "code",
      "source": [
        "nfc_equal('A','a')"
      ],
      "metadata": {
        "colab": {
          "base_uri": "https://localhost:8080/"
        },
        "id": "n1aQAgM4_suZ",
        "outputId": "c8d428ad-aa66-45b3-a190-3f40f52d602a"
      },
      "execution_count": null,
      "outputs": [
        {
          "output_type": "execute_result",
          "data": {
            "text/plain": [
              "False"
            ]
          },
          "metadata": {},
          "execution_count": 26
        }
      ]
    },
    {
      "cell_type": "code",
      "source": [
        "s3 = 'straße'\n",
        "s4 = 'strasse'\n",
        "\n",
        "s3 == s4"
      ],
      "metadata": {
        "colab": {
          "base_uri": "https://localhost:8080/"
        },
        "id": "HxI61cdH_3f2",
        "outputId": "28f1f948-fad6-426e-c752-e4ed8958a19b"
      },
      "execution_count": null,
      "outputs": [
        {
          "output_type": "execute_result",
          "data": {
            "text/plain": [
              "False"
            ]
          },
          "metadata": {},
          "execution_count": 27
        }
      ]
    },
    {
      "cell_type": "code",
      "source": [
        "nfc_equal(s3, s4)"
      ],
      "metadata": {
        "colab": {
          "base_uri": "https://localhost:8080/"
        },
        "id": "WDxLbvIU__d8",
        "outputId": "0259c724-445d-4332-d502-3d4aa3560fdb"
      },
      "execution_count": null,
      "outputs": [
        {
          "output_type": "execute_result",
          "data": {
            "text/plain": [
              "False"
            ]
          },
          "metadata": {},
          "execution_count": 28
        }
      ]
    },
    {
      "cell_type": "code",
      "source": [
        "fold_equal(s3, s4)"
      ],
      "metadata": {
        "colab": {
          "base_uri": "https://localhost:8080/"
        },
        "id": "T1g8GZfpACyI",
        "outputId": "7ca32e9b-6e8f-4506-dd79-f98ba37c6fe5"
      },
      "execution_count": null,
      "outputs": [
        {
          "output_type": "execute_result",
          "data": {
            "text/plain": [
              "True"
            ]
          },
          "metadata": {},
          "execution_count": 29
        }
      ]
    },
    {
      "cell_type": "code",
      "source": [
        "fold_equal(s1, s2)"
      ],
      "metadata": {
        "colab": {
          "base_uri": "https://localhost:8080/"
        },
        "id": "U13fXF0lAGJD",
        "outputId": "333ca2ce-54f1-4983-eaa7-ab5d7d679e61"
      },
      "execution_count": null,
      "outputs": [
        {
          "output_type": "execute_result",
          "data": {
            "text/plain": [
              "True"
            ]
          },
          "metadata": {},
          "execution_count": 30
        }
      ]
    },
    {
      "cell_type": "code",
      "source": [
        "fold_equal('A', 'a')"
      ],
      "metadata": {
        "colab": {
          "base_uri": "https://localhost:8080/"
        },
        "id": "U8XK71YKAI8j",
        "outputId": "76019bf9-6b0d-44c7-a14e-1896ae937748"
      },
      "execution_count": null,
      "outputs": [
        {
          "output_type": "execute_result",
          "data": {
            "text/plain": [
              "True"
            ]
          },
          "metadata": {},
          "execution_count": 31
        }
      ]
    },
    {
      "cell_type": "code",
      "source": [
        "#예제16\n",
        "import unicodedata\n",
        "import string\n",
        "\n",
        "def shave_marks(txt):\n",
        "    \"\"\"발음 구별 기호를 모두 제거한다\"\"\"\n",
        "    norm_txt = unicodedata.normalize('NFD', txt)\n",
        "    shaved = ''.join(c for c in norm_txt\n",
        "                      if not unicodedata.combining(c))\n",
        "    return unicodedata.normalize('NFC', shaved)\n"
      ],
      "metadata": {
        "id": "36hVMlbVAN96"
      },
      "execution_count": 7,
      "outputs": []
    },
    {
      "cell_type": "code",
      "source": [
        "order = '\"herrVoß: ½ cup of Etker™ caffé latte . bowl of açaí.\"'\n",
        "shave_marks(order)"
      ],
      "metadata": {
        "colab": {
          "base_uri": "https://localhost:8080/",
          "height": 35
        },
        "id": "Vy0e6DdaBigU",
        "outputId": "c33ab1f9-946b-4447-bbfa-7d5cfc8a96da"
      },
      "execution_count": 8,
      "outputs": [
        {
          "output_type": "execute_result",
          "data": {
            "text/plain": [
              "'\"herrVoß: ½ cup of Etker™ caffe latte . bowl of acai.\"'"
            ],
            "application/vnd.google.colaboratory.intrinsic+json": {
              "type": "string"
            }
          },
          "metadata": {},
          "execution_count": 8
        }
      ]
    },
    {
      "cell_type": "code",
      "source": [
        "Greek = 'Zέφρoζ, Zéfiro'\n",
        "shave_marks(Greek)"
      ],
      "metadata": {
        "colab": {
          "base_uri": "https://localhost:8080/",
          "height": 35
        },
        "id": "ISAeurTdGmH6",
        "outputId": "6b6b53b5-f582-44a3-bd0c-78040b905cf8"
      },
      "execution_count": 9,
      "outputs": [
        {
          "output_type": "execute_result",
          "data": {
            "text/plain": [
              "'Zεφρoζ, Zefiro'"
            ],
            "application/vnd.google.colaboratory.intrinsic+json": {
              "type": "string"
            }
          },
          "metadata": {},
          "execution_count": 9
        }
      ]
    },
    {
      "cell_type": "code",
      "source": [
        "#예제17\n",
        "def shave_marks_latin(txt):\n",
        "    \"\"\"Remove all diacritic marks from Latin base characters\"\"\"\n",
        "    norm_txt = unicodedata.normalize('NFD', txt)\n",
        "\n",
        "    latin_base = False\n",
        "    keepers = []\n",
        "\n",
        "    for c in norm_txt:\n",
        "        if unicodedata.combining(c) and latin_base:\n",
        "            continue # ignore diacritic on Latin base char\n",
        "        keepers.append(c)\n",
        "        #if it isn't combining char, it's a new base char\n",
        "\n",
        "        if not unicodedata.combining(c):\n",
        "            latin_base = c in string.ascii_letters\n",
        "\n",
        "    shaved = ''.join(keepers)\n",
        "\n",
        "    return unicodedata.normalize('NFC', shaved)"
      ],
      "metadata": {
        "id": "_JBj1OmjKmES"
      },
      "execution_count": 5,
      "outputs": []
    },
    {
      "cell_type": "code",
      "source": [
        "#예제 18\n",
        "single_map = str.maketrans(\"\"\",f,,✝^<''\"\"ㆍ-'>\"\"\",\n",
        "                           \"\"\",f,,*^<''\"\"ㆍ-'>\"\"\")\n",
        "\n",
        "multi_map = str.maketrans({\n",
        "    '€': '<euro>',\n",
        "    '…': '...',\n",
        "    'Œ': 'OE',\n",
        "    '™': '(TM)',\n",
        "    'œ': 'oe',\n",
        "    '‰': '<per mille>',\n",
        "    '‡': '**',\n",
        "})\n",
        "\n",
        "multi_map.update(single_map)\n",
        "\n",
        "def dewinize(txt):\n",
        "    \"\"\"Replace Win1252 symbols with ASCII chars or sequences\"\"\"\n",
        "    return txt.translate(multi_map)\n",
        "\n",
        "def asciize(txt):\n",
        "    no_marks = shave_marks_latin(dewinize(txt))\n",
        "    no_marks = no_marks.replace('ß', 'ss')\n",
        "    return unicodedata.normalize('NFKC', no_marks)"
      ],
      "metadata": {
        "id": "oyODyYyBLPyz"
      },
      "execution_count": 2,
      "outputs": []
    },
    {
      "cell_type": "code",
      "source": [
        "order = '\"herrVoß: ½ cup of Etker™ caffé latte . bowl of açaí.\"'\n",
        "dewinize(order)"
      ],
      "metadata": {
        "colab": {
          "base_uri": "https://localhost:8080/",
          "height": 35
        },
        "id": "G-_5StjJ1fSc",
        "outputId": "f75d0e32-91d5-4e75-8d0d-59448255a2f3"
      },
      "execution_count": 11,
      "outputs": [
        {
          "output_type": "execute_result",
          "data": {
            "text/plain": [
              "'\"herrVoß: ½ cup of Etker(TM) caffé latte . bowl of açaí.\"'"
            ],
            "application/vnd.google.colaboratory.intrinsic+json": {
              "type": "string"
            }
          },
          "metadata": {},
          "execution_count": 11
        }
      ]
    },
    {
      "cell_type": "code",
      "source": [
        "asciize(order)"
      ],
      "metadata": {
        "colab": {
          "base_uri": "https://localhost:8080/",
          "height": 35
        },
        "id": "x8j857ve2Z-H",
        "outputId": "8f7ef112-71cc-4ba8-a3c5-671f60186a52"
      },
      "execution_count": 12,
      "outputs": [
        {
          "output_type": "execute_result",
          "data": {
            "text/plain": [
              "'\"herrVoss: 1⁄2 cup of Etker(TM) caffe latte . bowl of acai.\"'"
            ],
            "application/vnd.google.colaboratory.intrinsic+json": {
              "type": "string"
            }
          },
          "metadata": {},
          "execution_count": 12
        }
      ]
    },
    {
      "cell_type": "code",
      "source": [
        "#예제 19\n",
        "fruits = ['caju', 'atemoia', 'cajá', 'açaí', 'acerola']\n",
        "sorted(fruits)"
      ],
      "metadata": {
        "colab": {
          "base_uri": "https://localhost:8080/"
        },
        "id": "m_qpRm_F2jML",
        "outputId": "d3a5c193-4eeb-414a-efe1-fbe35b8e83e9"
      },
      "execution_count": 13,
      "outputs": [
        {
          "output_type": "execute_result",
          "data": {
            "text/plain": [
              "['acerola', 'atemoia', 'açaí', 'caju', 'cajá']"
            ]
          },
          "metadata": {},
          "execution_count": 13
        }
      ]
    },
    {
      "cell_type": "code",
      "source": [
        "#예제 20\n",
        "!pip install pyuca"
      ],
      "metadata": {
        "colab": {
          "base_uri": "https://localhost:8080/"
        },
        "id": "bGBalFYH3nTJ",
        "outputId": "6f34a6b6-1d9a-49ca-d693-3048a761be5f"
      },
      "execution_count": 18,
      "outputs": [
        {
          "output_type": "stream",
          "name": "stdout",
          "text": [
            "Requirement already satisfied: pyuca in /usr/local/lib/python3.10/dist-packages (1.2)\n"
          ]
        }
      ]
    },
    {
      "cell_type": "code",
      "source": [
        "import pyuca\n",
        "coll = pyuca.Collator()\n",
        "fruits = ['caju', 'atemoia', 'cajá', 'açaí', 'acerola']\n",
        "sorted_fruits = sorted(fruits, key=coll.sort_key)\n",
        "sorted_fruits"
      ],
      "metadata": {
        "colab": {
          "base_uri": "https://localhost:8080/"
        },
        "id": "vLfDS6rH3rYO",
        "outputId": "347ee9b0-0674-46e3-94af-dff243a121db"
      },
      "execution_count": 16,
      "outputs": [
        {
          "output_type": "execute_result",
          "data": {
            "text/plain": [
              "['açaí', 'acerola', 'atemoia', 'cajá', 'caju']"
            ]
          },
          "metadata": {},
          "execution_count": 16
        }
      ]
    },
    {
      "cell_type": "code",
      "source": [
        "#예제 21\n",
        "import unicodedata\n",
        "import re\n",
        "\n",
        "re_digit = re.compile((r'\\d'))\n",
        "sample = '1\\xbc\\xb2\\u0969\\u136b\\u216b\\u2466\\u2480\\u3285'\n",
        "\n",
        "for char in sample:\n",
        "    print('U+%04x' % ord(char),\n",
        "          char.center(6),\n",
        "          're_dig' if re_digit.match(char) else '-',\n",
        "          'isdig' if char.isdigit() else '-',\n",
        "          'isnum' if char.isnumeric() else '-',\n",
        "          format(unicodedata.numeric(char), '5.2f'),\n",
        "          unicodedata.name(char),\n",
        "          sep='\\t')"
      ],
      "metadata": {
        "colab": {
          "base_uri": "https://localhost:8080/"
        },
        "id": "O8V1hIx738gv",
        "outputId": "d8735a7b-941b-407f-be94-dfce9d5e58d4"
      },
      "execution_count": 19,
      "outputs": [
        {
          "output_type": "stream",
          "name": "stdout",
          "text": [
            "U+0031\t  1   \tre_dig\tisdig\tisnum\t 1.00\tDIGIT ONE\n",
            "U+00bc\t  ¼   \t-\t-\tisnum\t 0.25\tVULGAR FRACTION ONE QUARTER\n",
            "U+00b2\t  ²   \t-\tisdig\tisnum\t 2.00\tSUPERSCRIPT TWO\n",
            "U+0969\t  ३   \tre_dig\tisdig\tisnum\t 3.00\tDEVANAGARI DIGIT THREE\n",
            "U+136b\t  ፫   \t-\tisdig\tisnum\t 3.00\tETHIOPIC DIGIT THREE\n",
            "U+216b\t  Ⅻ   \t-\t-\tisnum\t12.00\tROMAN NUMERAL TWELVE\n",
            "U+2466\t  ⑦   \t-\tisdig\tisnum\t 7.00\tCIRCLED DIGIT SEVEN\n",
            "U+2480\t  ⒀   \t-\t-\tisnum\t13.00\tPARENTHESIZED NUMBER THIRTEEN\n",
            "U+3285\t  ㊅   \t-\t-\tisnum\t 6.00\tCIRCLED IDEOGRAPH SIX\n"
          ]
        }
      ]
    },
    {
      "cell_type": "code",
      "source": [
        "#예제 22\n",
        "import re\n",
        "\n",
        "re_numbers_str = re.compile(r'\\d+')\n",
        "re_words_str = re.compile(r'\\w+')\n",
        "re_numbers_bytes = re.compile(rb'\\d+')\n",
        "re_words_bytes = re.compile(rb'\\w+')\n",
        "\n",
        "text_str = (\"Ramanujan saw \\u0be7\\u0bed\\u0be8\\u0bef\"\n",
        "            \" as 1729 = 1³+ 12³= 9³+ 10³.\")\n",
        "\n",
        "text_bytes = text_str.encode('utf_8')\n",
        "\n",
        "print('Text', repr(text_str), sep='\\n ')\n",
        "print('Numbers')\n",
        "print(' str :', re_numbers_str.findall(text_str))\n",
        "print(' bytes:', re_numbers_bytes.findall(text_bytes))\n",
        "print('Words')\n",
        "print(' str :', re_words_str.findall(text_str))\n",
        "print(' bytes:', re_words_bytes.findall(text_bytes))"
      ],
      "metadata": {
        "colab": {
          "base_uri": "https://localhost:8080/"
        },
        "id": "uklV9S9c4-mZ",
        "outputId": "680c4bed-b219-4ff1-b297-97e2c27c6372"
      },
      "execution_count": 20,
      "outputs": [
        {
          "output_type": "stream",
          "name": "stdout",
          "text": [
            "Text\n",
            " 'Ramanujan saw ௧௭௨௯ as 1729 = 1³+ 12³= 9³+ 10³.'\n",
            "Numbers\n",
            " str : ['௧௭௨௯', '1729', '1', '12', '9', '10']\n",
            " bytes: [b'1729', b'1', b'12', b'9', b'10']\n",
            "Words\n",
            " str : ['Ramanujan', 'saw', '௧௭௨௯', 'as', '1729', '1³', '12³', '9³', '10³']\n",
            " bytes: [b'Ramanujan', b'saw', b'as', b'1729', b'1', b'12', b'9', b'10']\n"
          ]
        }
      ]
    },
    {
      "cell_type": "code",
      "source": [
        "#예제 23\n",
        "import os\n",
        "\n",
        "os.listdir('.')"
      ],
      "metadata": {
        "colab": {
          "base_uri": "https://localhost:8080/"
        },
        "id": "zfTluwgi6UKn",
        "outputId": "79483de2-e158-4b95-a025-9e50d0f2a571"
      },
      "execution_count": 27,
      "outputs": [
        {
          "output_type": "execute_result",
          "data": {
            "text/plain": [
              "['.config', 'sample_data']"
            ]
          },
          "metadata": {},
          "execution_count": 27
        }
      ]
    },
    {
      "cell_type": "code",
      "source": [
        "os.listdir(b'.')"
      ],
      "metadata": {
        "colab": {
          "base_uri": "https://localhost:8080/"
        },
        "id": "CsMVgBlO6YZW",
        "outputId": "2d0fe684-54c0-4307-9da9-e93aa3c366f2"
      },
      "execution_count": 22,
      "outputs": [
        {
          "output_type": "execute_result",
          "data": {
            "text/plain": [
              "[b'.config', b'sample_data']"
            ]
          },
          "metadata": {},
          "execution_count": 22
        }
      ]
    },
    {
      "cell_type": "code",
      "source": [
        "#예제 24\n",
        "os.listdir('./fluent_python')"
      ],
      "metadata": {
        "colab": {
          "base_uri": "https://localhost:8080/"
        },
        "id": "ybshSXNp6bPk",
        "outputId": "f9d1bae1-0a21-4c19-a5eb-87fb6403bb01"
      },
      "execution_count": 30,
      "outputs": [
        {
          "output_type": "execute_result",
          "data": {
            "text/plain": [
              "['.ipynb_checkpoints', 'digits-of-pi.txt']"
            ]
          },
          "metadata": {},
          "execution_count": 30
        }
      ]
    },
    {
      "cell_type": "code",
      "source": [
        "os.listdir(b'./fluent_python')"
      ],
      "metadata": {
        "colab": {
          "base_uri": "https://localhost:8080/"
        },
        "id": "nZG9Gl3g7evB",
        "outputId": "8d2571a4-ad44-40cd-bb12-622c8e8b4468"
      },
      "execution_count": 32,
      "outputs": [
        {
          "output_type": "execute_result",
          "data": {
            "text/plain": [
              "[b'.ipynb_checkpoints', b'digits-of-pi.txt']"
            ]
          },
          "metadata": {},
          "execution_count": 32
        }
      ]
    },
    {
      "cell_type": "code",
      "source": [
        "pi_name_bytes = os.listdir(b'.')[1]\n",
        "pi_name_str = pi_name_bytes.decode('ascii', 'surrogateescape')\n",
        "pi_name_str"
      ],
      "metadata": {
        "colab": {
          "base_uri": "https://localhost:8080/",
          "height": 35
        },
        "id": "45ssxJaN7k28",
        "outputId": "1f00bc35-400f-4e96-bd62-0bdfa0242dc4"
      },
      "execution_count": 34,
      "outputs": [
        {
          "output_type": "execute_result",
          "data": {
            "text/plain": [
              "'fluent_python'"
            ],
            "application/vnd.google.colaboratory.intrinsic+json": {
              "type": "string"
            }
          },
          "metadata": {},
          "execution_count": 34
        }
      ]
    },
    {
      "cell_type": "code",
      "source": [],
      "metadata": {
        "id": "zIG9ihZp71nJ"
      },
      "execution_count": null,
      "outputs": []
    }
  ]
}